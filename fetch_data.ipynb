{
 "cells": [
  {
   "cell_type": "code",
   "execution_count": 114,
   "id": "54e83f76-64ca-46fd-8c85-cef596138284",
   "metadata": {},
   "outputs": [],
   "source": [
    "import requests\n",
    "import pandas as pd\n",
    "import json\n",
    "from urllib.parse import urlencode\n",
    "from zoneinfo import ZoneInfo\n",
    "from datetime import datetime, timedelta"
   ]
  },
  {
   "cell_type": "code",
   "execution_count": 115,
   "id": "aef5a47d-0927-445c-9ec1-0541cf8c9ad1",
   "metadata": {},
   "outputs": [],
   "source": [
    "from utils.common_func import get_access_token, get_data, dt_isoformat, process_raw_data\n",
    "from utils.config import HOST_NAME, BASE, BASE64_CLIENT"
   ]
  },
  {
   "cell_type": "code",
   "execution_count": 116,
   "id": "d4ad1f92-8510-4306-885d-7d062c86386a",
   "metadata": {},
   "outputs": [],
   "source": [
    "FORECAST_SECTOR = ['AGGREGATED_PROGRAMMABLE_FRANCE','AGGREGATED_NON_PROGRAMMABLE_FRANCE', 'WIND_ONSHORE','WIND_OFFSHORE', 'SOLAR', 'AGGREGATED_CPC', 'MDSETRF', 'MDSESTS']\n",
    "FORECAST_TYPE = ['CURRENT','ID','D-1','D-2','D-3']\n",
    "\n",
    "oauth_url = f\"https://{HOST_NAME}/token/oauth/ HTTP/1.1\"\n",
    "generation_forecast_url = f\"https://{HOST_NAME}{BASE}/forecasts\""
   ]
  },
  {
   "cell_type": "code",
   "execution_count": 118,
   "id": "0be81dd7-2d40-4db1-be07-37ad5c38357f",
   "metadata": {},
   "outputs": [
    {
     "name": "stdout",
     "output_type": "stream",
     "text": [
      "Access token retrieved successfully.\n"
     ]
    }
   ],
   "source": [
    "access_token = get_access_token(oauth_url)"
   ]
  },
  {
   "cell_type": "code",
   "execution_count": 77,
   "id": "0e0cb432-2984-441a-9a27-88d0294aa312",
   "metadata": {},
   "outputs": [
    {
     "data": {
      "text/plain": [
       "{'production_type': 'WIND_OFFSHORE',\n",
       " 'start_date': '2024-01-01T00:00:00+01:00',\n",
       " 'end_date': '2024-01-03T00:00:00+01:00'}"
      ]
     },
     "execution_count": 77,
     "metadata": {},
     "output_type": "execute_result"
    }
   ],
   "source": [
    "# prod_type = {'production_type':'WIND_OFFSHORE'}\n",
    "# query_param = {}\n",
    "# query_param.update(prod_type)\n",
    "# query_param.update(date_query)\n",
    "# query_param"
   ]
  },
  {
   "cell_type": "code",
   "execution_count": 131,
   "id": "cae47eac-99d8-4b4b-8fa3-13f19619c3b1",
   "metadata": {},
   "outputs": [],
   "source": [
    "# took 7 mins to run this block\n",
    "start_date = datetime(2024,1,1,0,0,0)\n",
    "end_date = datetime(2024,1,1,0,0,0)\n",
    "data_all = pd.DataFrame()\n",
    "check = []\n",
    "while end_date <= datetime(2024,11,1,0,0,0):\n",
    "    end_date = start_date +  timedelta(7)\n",
    "    date_query = {'start_date' : dt_isoformat(start_date), 'end_date' : dt_isoformat(end_date)}\n",
    "    check.append(date_query)\n",
    "    data_res = get_data(generation_forecast_url, access_token, params = date_query, encode_dt_param=True)\n",
    "    processed_data = process_raw_data(data_res)\n",
    "    data_all = pd.concat([data_all, processed_data])\n",
    "    start_date = end_date + timedelta(seconds=60*30)\n"
   ]
  },
  {
   "cell_type": "code",
   "execution_count": 132,
   "id": "088d44fe-2a95-4545-b050-c20fe5352f3d",
   "metadata": {},
   "outputs": [],
   "source": [
    "data_all.to_csv('data_11_months.csv',index=False)"
   ]
  },
  {
   "cell_type": "code",
   "execution_count": 135,
   "id": "a8d49bc6-3ffc-4f09-8421-66784e44e63e",
   "metadata": {},
   "outputs": [
    {
     "data": {
      "text/plain": [
       "{'start_date': '2024-10-28T21:30:00+01:00',\n",
       " 'end_date': '2024-11-04T21:30:00+01:00'}"
      ]
     },
     "execution_count": 135,
     "metadata": {},
     "output_type": "execute_result"
    }
   ],
   "source": [
    "date_query"
   ]
  },
  {
   "cell_type": "code",
   "execution_count": 136,
   "id": "ac7eea0c-70fd-4a9a-9a38-0dea22620e14",
   "metadata": {},
   "outputs": [
    {
     "data": {
      "text/plain": [
       "(335820, 7)"
      ]
     },
     "execution_count": 136,
     "metadata": {},
     "output_type": "execute_result"
    }
   ],
   "source": [
    "data_all.shape"
   ]
  },
  {
   "cell_type": "code",
   "execution_count": null,
   "id": "878aa6f4-c696-4277-af1a-843a261db450",
   "metadata": {},
   "outputs": [],
   "source": []
  }
 ],
 "metadata": {
  "kernelspec": {
   "display_name": "Python 3 (ipykernel)",
   "language": "python",
   "name": "python3"
  },
  "language_info": {
   "codemirror_mode": {
    "name": "ipython",
    "version": 3
   },
   "file_extension": ".py",
   "mimetype": "text/x-python",
   "name": "python",
   "nbconvert_exporter": "python",
   "pygments_lexer": "ipython3",
   "version": "3.9.6"
  }
 },
 "nbformat": 4,
 "nbformat_minor": 5
}
