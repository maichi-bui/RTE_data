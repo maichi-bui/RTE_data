{
 "cells": [
  {
   "cell_type": "markdown",
   "id": "057a19d5-912a-428a-b8c6-5dc41179829a",
   "metadata": {},
   "source": [
    "# import neccessary functions"
   ]
  },
  {
   "cell_type": "code",
   "execution_count": 1,
   "id": "599a23a0-8db0-41ef-ae82-b131b6c9644c",
   "metadata": {},
   "outputs": [],
   "source": [
    "import sys\n",
    "import os"
   ]
  },
  {
   "cell_type": "code",
   "execution_count": 2,
   "id": "54e83f76-64ca-46fd-8c85-cef596138284",
   "metadata": {},
   "outputs": [],
   "source": [
    "import requests\n",
    "import pandas as pd\n",
    "import json\n",
    "from urllib.parse import urlencode\n",
    "from zoneinfo import ZoneInfo\n",
    "from datetime import datetime, timedelta"
   ]
  },
  {
   "cell_type": "code",
   "execution_count": 3,
   "id": "0ba94e43-d951-41f5-887c-4f5d2114748a",
   "metadata": {},
   "outputs": [],
   "source": [
    "os.chdir('..')"
   ]
  },
  {
   "cell_type": "code",
   "execution_count": 4,
   "id": "aef5a47d-0927-445c-9ec1-0541cf8c9ad1",
   "metadata": {},
   "outputs": [],
   "source": [
    "from utils.common_func import get_access_token, get_data, dt_isoformat, process_raw_data\n",
    "from utils.config import HOST_NAME, BASE, BASE64_CLIENT"
   ]
  },
  {
   "cell_type": "code",
   "execution_count": 5,
   "id": "007a1841-17ed-4266-bb3c-a45d858e8798",
   "metadata": {},
   "outputs": [],
   "source": [
    "document_input = ['AGGREGATED_FRANCE','WIND_ONSHORE','WIND_OFFSHORE','SOLAR','AGGREGATED_CPC','MDSE']"
   ]
  },
  {
   "cell_type": "code",
   "execution_count": 6,
   "id": "d4ad1f92-8510-4306-885d-7d062c86386a",
   "metadata": {},
   "outputs": [],
   "source": [
    "FORECAST_SECTOR = ['AGGREGATED_PROGRAMMABLE_FRANCE','AGGREGATED_NON_PROGRAMMABLE_FRANCE', 'WIND_ONSHORE','WIND_OFFSHORE', 'SOLAR', 'AGGREGATED_CPC', 'MDSETRF', 'MDSESTS']\n",
    "FORECAST_TYPE = ['CURRENT','ID','D-1','D-2','D-3']\n",
    "\n",
    "oauth_url = f\"https://{HOST_NAME}/token/oauth/ HTTP/1.1\"\n",
    "generation_forecast_url = f\"https://{HOST_NAME}{BASE}/forecasts\""
   ]
  },
  {
   "cell_type": "code",
   "execution_count": 7,
   "id": "47cad4fd-e990-4ae5-9f4d-d91dec23a95a",
   "metadata": {},
   "outputs": [],
   "source": [
    "map_input_output_sector = {'AGGREGATED_FRANCE':['AGGREGATED_PROGRAMMABLE_FRANCE','AGGREGATED_PROGRAMMABLE_FRANCE'],\n",
    "'MDSE':['MDSETRF', 'MDSESTS']}"
   ]
  },
  {
   "cell_type": "markdown",
   "id": "a93197f6-eb82-4cec-97f0-0c43160b17fb",
   "metadata": {},
   "source": [
    "# get data of 11 months"
   ]
  },
  {
   "cell_type": "code",
   "execution_count": 18,
   "id": "0be81dd7-2d40-4db1-be07-37ad5c38357f",
   "metadata": {},
   "outputs": [
    {
     "name": "stdout",
     "output_type": "stream",
     "text": [
      "Access token retrieved successfully.\n"
     ]
    }
   ],
   "source": [
    "access_token = get_access_token(oauth_url)"
   ]
  },
  {
   "cell_type": "code",
   "execution_count": 13,
   "id": "0e0cb432-2984-441a-9a27-88d0294aa312",
   "metadata": {},
   "outputs": [
    {
     "data": {
      "text/plain": [
       "{'production_type': 'AGGREGATED_FRANCE'}"
      ]
     },
     "execution_count": 13,
     "metadata": {},
     "output_type": "execute_result"
    }
   ],
   "source": [
    "# prod_type = {'production_type':'AGGREGATED_FRANCE'}\n",
    "# query_param = {}\n",
    "# query_param.update(prod_type)\n",
    "# query_param.update(date_query)\n",
    "# query_param"
   ]
  },
  {
   "cell_type": "code",
   "execution_count": 15,
   "id": "abba38f0-309d-4cff-8f9c-5e11c1bb0d41",
   "metadata": {},
   "outputs": [
    {
     "data": {
      "text/plain": [
       "array(['AGGREGATED_NON_PROGRAMMABLE_FRANCE',\n",
       "       'AGGREGATED_PROGRAMMABLE_FRANCE'], dtype=object)"
      ]
     },
     "execution_count": 15,
     "metadata": {},
     "output_type": "execute_result"
    }
   ],
   "source": [
    "# data_res = get_data(generation_forecast_url, access_token, params = query_param, encode_dt_param=True)\n",
    "# processed_data = process_raw_data(data_res)\n",
    "# processed_data.production_type.unique()"
   ]
  },
  {
   "cell_type": "code",
   "execution_count": 19,
   "id": "202a9c28-1420-4fa9-a161-985386c30641",
   "metadata": {},
   "outputs": [
    {
     "data": {
      "text/plain": [
       "20"
      ]
     },
     "execution_count": 19,
     "metadata": {},
     "output_type": "execute_result"
    }
   ],
   "source": [
    "len(check)"
   ]
  },
  {
   "cell_type": "code",
   "execution_count": 20,
   "id": "cae47eac-99d8-4b4b-8fa3-13f19619c3b1",
   "metadata": {
    "scrolled": true
   },
   "outputs": [
    {
     "name": "stdout",
     "output_type": "stream",
     "text": [
      "{'start_date': '2024-05-13T09:30:00+02:00', 'end_date': '2024-05-20T09:30:00+02:00'}\n",
      "Forecast data fetched successfully.\n",
      "{'start_date': '2024-05-20T10:00:00+02:00', 'end_date': '2024-05-27T10:00:00+02:00'}\n",
      "Forecast data fetched successfully.\n",
      "{'start_date': '2024-05-27T10:30:00+02:00', 'end_date': '2024-06-03T10:30:00+02:00'}\n",
      "Forecast data fetched successfully.\n",
      "{'start_date': '2024-06-03T11:00:00+02:00', 'end_date': '2024-06-10T11:00:00+02:00'}\n",
      "Forecast data fetched successfully.\n",
      "{'start_date': '2024-06-10T11:30:00+02:00', 'end_date': '2024-06-17T11:30:00+02:00'}\n",
      "Forecast data fetched successfully.\n",
      "{'start_date': '2024-06-17T12:00:00+02:00', 'end_date': '2024-06-24T12:00:00+02:00'}\n",
      "Forecast data fetched successfully.\n",
      "{'start_date': '2024-06-24T12:30:00+02:00', 'end_date': '2024-07-01T12:30:00+02:00'}\n",
      "Forecast data fetched successfully.\n",
      "{'start_date': '2024-07-01T13:00:00+02:00', 'end_date': '2024-07-08T13:00:00+02:00'}\n",
      "Forecast data fetched successfully.\n",
      "{'start_date': '2024-07-08T13:30:00+02:00', 'end_date': '2024-07-15T13:30:00+02:00'}\n",
      "Forecast data fetched successfully.\n",
      "{'start_date': '2024-07-15T14:00:00+02:00', 'end_date': '2024-07-22T14:00:00+02:00'}\n",
      "Forecast data fetched successfully.\n",
      "{'start_date': '2024-07-22T14:30:00+02:00', 'end_date': '2024-07-29T14:30:00+02:00'}\n",
      "Forecast data fetched successfully.\n",
      "{'start_date': '2024-07-29T15:00:00+02:00', 'end_date': '2024-08-05T15:00:00+02:00'}\n",
      "Forecast data fetched successfully.\n",
      "{'start_date': '2024-08-05T15:30:00+02:00', 'end_date': '2024-08-12T15:30:00+02:00'}\n",
      "Forecast data fetched successfully.\n",
      "{'start_date': '2024-08-12T16:00:00+02:00', 'end_date': '2024-08-19T16:00:00+02:00'}\n",
      "Forecast data fetched successfully.\n",
      "{'start_date': '2024-08-19T16:30:00+02:00', 'end_date': '2024-08-26T16:30:00+02:00'}\n",
      "Forecast data fetched successfully.\n",
      "{'start_date': '2024-08-26T17:00:00+02:00', 'end_date': '2024-09-02T17:00:00+02:00'}\n",
      "Forecast data fetched successfully.\n",
      "{'start_date': '2024-09-02T17:30:00+02:00', 'end_date': '2024-09-09T17:30:00+02:00'}\n",
      "Forecast data fetched successfully.\n",
      "{'start_date': '2024-09-09T18:00:00+02:00', 'end_date': '2024-09-16T18:00:00+02:00'}\n",
      "Forecast data fetched successfully.\n",
      "{'start_date': '2024-09-16T18:30:00+02:00', 'end_date': '2024-09-23T18:30:00+02:00'}\n",
      "Forecast data fetched successfully.\n",
      "{'start_date': '2024-09-23T19:00:00+02:00', 'end_date': '2024-09-30T19:00:00+02:00'}\n",
      "Forecast data fetched successfully.\n",
      "{'start_date': '2024-09-30T19:30:00+02:00', 'end_date': '2024-10-07T19:30:00+02:00'}\n",
      "Forecast data fetched successfully.\n",
      "{'start_date': '2024-10-07T20:00:00+02:00', 'end_date': '2024-10-14T20:00:00+02:00'}\n",
      "Forecast data fetched successfully.\n",
      "{'start_date': '2024-10-14T20:30:00+02:00', 'end_date': '2024-10-21T20:30:00+02:00'}\n",
      "Forecast data fetched successfully.\n",
      "{'start_date': '2024-10-21T21:00:00+02:00', 'end_date': '2024-10-28T21:00:00+01:00'}\n",
      "Forecast data fetched successfully.\n",
      "{'start_date': '2024-10-28T21:30:00+01:00', 'end_date': '2024-11-04T21:30:00+01:00'}\n",
      "Forecast data fetched successfully.\n"
     ]
    }
   ],
   "source": [
    "# took 7 mins to run this block\n",
    "start_date = datetime(2024,5,13,9,30,0)\n",
    "\n",
    "# {'start_date': '2024-05-13T09:30:00+02:00',\n",
    "end_date = datetime(2024,1,1,0,0,0)\n",
    "# check = []\n",
    "while end_date <= datetime(2024,11,1,0,0,0):\n",
    "    end_date = start_date +  timedelta(7)\n",
    "    date_query = {'start_date' : dt_isoformat(start_date), 'end_date' : dt_isoformat(end_date)}\n",
    "    check.append(date_query)\n",
    "    print(date_query)\n",
    "    data_res = get_data(generation_forecast_url, access_token, params = date_query, encode_dt_param=True)\n",
    "    processed_data = process_raw_data(data_res)\n",
    "    \n",
    "    if len(check)==1:\n",
    "        # first export\n",
    "        processed_data.to_csv('output_data/data_11_months.csv',index=False)    \n",
    "    else:\n",
    "        processed_data.to_csv('output_data/data_11_months.csv',index=False, mode='a')\n",
    "    start_date = end_date + timedelta(seconds=60*30)\n",
    "    "
   ]
  },
  {
   "cell_type": "code",
   "execution_count": 21,
   "id": "736e7aba-62e1-44b3-b459-744231fb8d93",
   "metadata": {},
   "outputs": [
    {
     "data": {
      "text/plain": [
       "{'start_date': '2024-10-28T21:30:00+01:00',\n",
       " 'end_date': '2024-11-04T21:30:00+01:00'}"
      ]
     },
     "execution_count": 21,
     "metadata": {},
     "output_type": "execute_result"
    }
   ],
   "source": [
    "date_query"
   ]
  },
  {
   "cell_type": "code",
   "execution_count": 23,
   "id": "a8d49bc6-3ffc-4f09-8421-66784e44e63e",
   "metadata": {},
   "outputs": [
    {
     "data": {
      "text/plain": [
       "('number of API call', 44)"
      ]
     },
     "execution_count": 23,
     "metadata": {},
     "output_type": "execute_result"
    }
   ],
   "source": [
    "\"number of API call\", len(check)-1"
   ]
  },
  {
   "cell_type": "markdown",
   "id": "5a82bb95-523f-4509-b992-262e2a2e149f",
   "metadata": {},
   "source": [
    "# analyze queried data"
   ]
  },
  {
   "cell_type": "code",
   "execution_count": 24,
   "id": "31791eb9-56a2-4411-96d0-49b91ee71ab5",
   "metadata": {},
   "outputs": [
    {
     "data": {
      "text/plain": [
       "(417630, 10)"
      ]
     },
     "execution_count": 24,
     "metadata": {},
     "output_type": "execute_result"
    }
   ],
   "source": [
    "data_all = pd.read_csv('output_data/data_11_months.csv')\n",
    "data_all.shape"
   ]
  },
  {
   "cell_type": "code",
   "execution_count": 27,
   "id": "2f659951-ca27-49cc-ba2d-f417db90ce37",
   "metadata": {},
   "outputs": [
    {
     "data": {
      "text/html": [
       "<div>\n",
       "<style scoped>\n",
       "    .dataframe tbody tr th:only-of-type {\n",
       "        vertical-align: middle;\n",
       "    }\n",
       "\n",
       "    .dataframe tbody tr th {\n",
       "        vertical-align: top;\n",
       "    }\n",
       "\n",
       "    .dataframe thead th {\n",
       "        text-align: right;\n",
       "    }\n",
       "</style>\n",
       "<table border=\"1\" class=\"dataframe\">\n",
       "  <thead>\n",
       "    <tr style=\"text-align: right;\">\n",
       "      <th></th>\n",
       "      <th>start_date</th>\n",
       "      <th>end_date</th>\n",
       "      <th>updated_date</th>\n",
       "      <th>value</th>\n",
       "      <th>load_factor</th>\n",
       "      <th>production_type</th>\n",
       "      <th>type</th>\n",
       "      <th>sub_type</th>\n",
       "      <th>start_query_date</th>\n",
       "      <th>end_query_date</th>\n",
       "    </tr>\n",
       "  </thead>\n",
       "  <tbody>\n",
       "    <tr>\n",
       "      <th>0</th>\n",
       "      <td>2024-01-01T00:00:00+01:00</td>\n",
       "      <td>2024-01-01T00:30:00+01:00</td>\n",
       "      <td>2023-12-31T10:31:00+01:00</td>\n",
       "      <td>8979.0</td>\n",
       "      <td>NaN</td>\n",
       "      <td>AGGREGATED_CPC</td>\n",
       "      <td>D-1</td>\n",
       "      <td>DA01</td>\n",
       "      <td>2024-01-01 00:00:00+01:00</td>\n",
       "      <td>2024-01-08 00:00:00+01:00</td>\n",
       "    </tr>\n",
       "    <tr>\n",
       "      <th>1</th>\n",
       "      <td>2024-01-01T00:30:00+01:00</td>\n",
       "      <td>2024-01-01T01:00:00+01:00</td>\n",
       "      <td>2023-12-31T10:31:00+01:00</td>\n",
       "      <td>8903.0</td>\n",
       "      <td>NaN</td>\n",
       "      <td>AGGREGATED_CPC</td>\n",
       "      <td>D-1</td>\n",
       "      <td>DA01</td>\n",
       "      <td>2024-01-01 00:00:00+01:00</td>\n",
       "      <td>2024-01-08 00:00:00+01:00</td>\n",
       "    </tr>\n",
       "    <tr>\n",
       "      <th>2</th>\n",
       "      <td>2024-01-01T01:00:00+01:00</td>\n",
       "      <td>2024-01-01T01:30:00+01:00</td>\n",
       "      <td>2023-12-31T10:31:00+01:00</td>\n",
       "      <td>8833.0</td>\n",
       "      <td>NaN</td>\n",
       "      <td>AGGREGATED_CPC</td>\n",
       "      <td>D-1</td>\n",
       "      <td>DA01</td>\n",
       "      <td>2024-01-01 00:00:00+01:00</td>\n",
       "      <td>2024-01-08 00:00:00+01:00</td>\n",
       "    </tr>\n",
       "    <tr>\n",
       "      <th>3</th>\n",
       "      <td>2024-01-01T01:30:00+01:00</td>\n",
       "      <td>2024-01-01T02:00:00+01:00</td>\n",
       "      <td>2023-12-31T10:31:00+01:00</td>\n",
       "      <td>8803.0</td>\n",
       "      <td>NaN</td>\n",
       "      <td>AGGREGATED_CPC</td>\n",
       "      <td>D-1</td>\n",
       "      <td>DA01</td>\n",
       "      <td>2024-01-01 00:00:00+01:00</td>\n",
       "      <td>2024-01-08 00:00:00+01:00</td>\n",
       "    </tr>\n",
       "    <tr>\n",
       "      <th>4</th>\n",
       "      <td>2024-01-01T02:00:00+01:00</td>\n",
       "      <td>2024-01-01T02:30:00+01:00</td>\n",
       "      <td>2023-12-31T10:31:00+01:00</td>\n",
       "      <td>8751.0</td>\n",
       "      <td>NaN</td>\n",
       "      <td>AGGREGATED_CPC</td>\n",
       "      <td>D-1</td>\n",
       "      <td>DA01</td>\n",
       "      <td>2024-01-01 00:00:00+01:00</td>\n",
       "      <td>2024-01-08 00:00:00+01:00</td>\n",
       "    </tr>\n",
       "  </tbody>\n",
       "</table>\n",
       "</div>"
      ],
      "text/plain": [
       "                  start_date                   end_date  \\\n",
       "0  2024-01-01T00:00:00+01:00  2024-01-01T00:30:00+01:00   \n",
       "1  2024-01-01T00:30:00+01:00  2024-01-01T01:00:00+01:00   \n",
       "2  2024-01-01T01:00:00+01:00  2024-01-01T01:30:00+01:00   \n",
       "3  2024-01-01T01:30:00+01:00  2024-01-01T02:00:00+01:00   \n",
       "4  2024-01-01T02:00:00+01:00  2024-01-01T02:30:00+01:00   \n",
       "\n",
       "                updated_date   value load_factor production_type type  \\\n",
       "0  2023-12-31T10:31:00+01:00  8979.0         NaN  AGGREGATED_CPC  D-1   \n",
       "1  2023-12-31T10:31:00+01:00  8903.0         NaN  AGGREGATED_CPC  D-1   \n",
       "2  2023-12-31T10:31:00+01:00  8833.0         NaN  AGGREGATED_CPC  D-1   \n",
       "3  2023-12-31T10:31:00+01:00  8803.0         NaN  AGGREGATED_CPC  D-1   \n",
       "4  2023-12-31T10:31:00+01:00  8751.0         NaN  AGGREGATED_CPC  D-1   \n",
       "\n",
       "  sub_type           start_query_date             end_query_date  \n",
       "0     DA01  2024-01-01 00:00:00+01:00  2024-01-08 00:00:00+01:00  \n",
       "1     DA01  2024-01-01 00:00:00+01:00  2024-01-08 00:00:00+01:00  \n",
       "2     DA01  2024-01-01 00:00:00+01:00  2024-01-08 00:00:00+01:00  \n",
       "3     DA01  2024-01-01 00:00:00+01:00  2024-01-08 00:00:00+01:00  \n",
       "4     DA01  2024-01-01 00:00:00+01:00  2024-01-08 00:00:00+01:00  "
      ]
     },
     "execution_count": 27,
     "metadata": {},
     "output_type": "execute_result"
    }
   ],
   "source": [
    "data_all.head()"
   ]
  },
  {
   "cell_type": "code",
   "execution_count": 26,
   "id": "bab010b5-818c-4003-bac8-1297263a5cf1",
   "metadata": {},
   "outputs": [
    {
     "data": {
      "text/plain": [
       "array(['AGGREGATED_CPC', 'AGGREGATED_NON_PROGRAMMABLE_FRANCE',\n",
       "       'AGGREGATED_PROGRAMMABLE_FRANCE', 'MDSESTS', 'MDSETRF', 'SOLAR',\n",
       "       'WIND_OFFSHORE', 'WIND_ONSHORE', 'production_type'], dtype=object)"
      ]
     },
     "execution_count": 26,
     "metadata": {},
     "output_type": "execute_result"
    }
   ],
   "source": [
    "data_all.production_type.unique()"
   ]
  },
  {
   "cell_type": "code",
   "execution_count": 16,
   "id": "4031d72f-7687-43fe-be7d-65ff333685d6",
   "metadata": {},
   "outputs": [
    {
     "data": {
      "text/plain": [
       "0         2024-01-01T00:30:00+01:00\n",
       "1         2024-01-01T01:00:00+01:00\n",
       "2         2024-01-01T01:30:00+01:00\n",
       "3         2024-01-01T02:00:00+01:00\n",
       "4         2024-01-01T02:30:00+01:00\n",
       "                    ...            \n",
       "180542    2024-05-07T20:00:00+02:00\n",
       "180543    2024-05-07T21:00:00+02:00\n",
       "180544    2024-05-07T22:00:00+02:00\n",
       "180545    2024-05-07T23:00:00+02:00\n",
       "180546    2024-05-08T00:00:00+02:00\n",
       "Name: end_date, Length: 180547, dtype: object"
      ]
     },
     "execution_count": 16,
     "metadata": {},
     "output_type": "execute_result"
    }
   ],
   "source": [
    "data_all.end_date"
   ]
  },
  {
   "cell_type": "code",
   "execution_count": null,
   "id": "df9c2944-2885-4c17-b09f-853a84bb24fe",
   "metadata": {},
   "outputs": [],
   "source": []
  }
 ],
 "metadata": {
  "kernelspec": {
   "display_name": "Python 3 (ipykernel)",
   "language": "python",
   "name": "python3"
  },
  "language_info": {
   "codemirror_mode": {
    "name": "ipython",
    "version": 3
   },
   "file_extension": ".py",
   "mimetype": "text/x-python",
   "name": "python",
   "nbconvert_exporter": "python",
   "pygments_lexer": "ipython3",
   "version": "3.9.6"
  }
 },
 "nbformat": 4,
 "nbformat_minor": 5
}
